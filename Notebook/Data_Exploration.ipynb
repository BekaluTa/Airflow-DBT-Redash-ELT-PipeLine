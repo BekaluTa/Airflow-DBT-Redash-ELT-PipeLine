{
 "cells": [
  {
   "cell_type": "code",
   "execution_count": 2,
   "id": "3c33c232",
   "metadata": {},
   "outputs": [],
   "source": [
    "import sys\n",
    "import os\n",
    "import pandas as pd\n",
    "sys.path.append(os.path.abspath(\"../scripts/\"))\n",
    "#from datareader import DataReader\n",
    "#import db_connector"
   ]
  },
  {
   "cell_type": "code",
   "execution_count": 4,
   "id": "67f8a867",
   "metadata": {},
   "outputs": [],
   "source": [
    "df=pd.read_csv(\"../Data/week5.csv\")"
   ]
  },
  {
   "cell_type": "code",
   "execution_count": 5,
   "id": "c98547b2",
   "metadata": {},
   "outputs": [
    {
     "data": {
      "text/html": [
       "<div>\n",
       "<style scoped>\n",
       "    .dataframe tbody tr th:only-of-type {\n",
       "        vertical-align: middle;\n",
       "    }\n",
       "\n",
       "    .dataframe tbody tr th {\n",
       "        vertical-align: top;\n",
       "    }\n",
       "\n",
       "    .dataframe thead th {\n",
       "        text-align: right;\n",
       "    }\n",
       "</style>\n",
       "<table border=\"1\" class=\"dataframe\">\n",
       "  <thead>\n",
       "    <tr style=\"text-align: right;\">\n",
       "      <th></th>\n",
       "      <th>track_id; type; traveled_d; avg_speed; lat; lon; speed; lon_acc; lat_acc; time</th>\n",
       "    </tr>\n",
       "  </thead>\n",
       "  <tbody>\n",
       "    <tr>\n",
       "      <th>0</th>\n",
       "      <td>1; Car; 21.47; 25.760048; 37.977161; 23.737857...</td>\n",
       "    </tr>\n",
       "    <tr>\n",
       "      <th>1</th>\n",
       "      <td>2; Car; 31.16; 28.042868; 37.977271; 23.737826...</td>\n",
       "    </tr>\n",
       "    <tr>\n",
       "      <th>2</th>\n",
       "      <td>3; Car; 58.95; 21.656154; 37.977511; 23.737657...</td>\n",
       "    </tr>\n",
       "    <tr>\n",
       "      <th>3</th>\n",
       "      <td>4; Car; 135.78; 18.103987; 37.978145; 23.73712...</td>\n",
       "    </tr>\n",
       "    <tr>\n",
       "      <th>4</th>\n",
       "      <td>5; Car; 133.94; 20.090543; 37.978132; 23.73709...</td>\n",
       "    </tr>\n",
       "    <tr>\n",
       "      <th>...</th>\n",
       "      <td>...</td>\n",
       "    </tr>\n",
       "    <tr>\n",
       "      <th>772</th>\n",
       "      <td>773; Car; 44.31; 16.616416; 37.978371; 23.7354...</td>\n",
       "    </tr>\n",
       "    <tr>\n",
       "      <th>773</th>\n",
       "      <td>774; Car; 36.76; 17.413278; 37.978367; 23.7354...</td>\n",
       "    </tr>\n",
       "    <tr>\n",
       "      <th>774</th>\n",
       "      <td>775; Car; 27.26; 19.630527; 37.978369; 23.7354...</td>\n",
       "    </tr>\n",
       "    <tr>\n",
       "      <th>775</th>\n",
       "      <td>776; Motorcycle; 9.28; 12.846367; 37.978576; 2...</td>\n",
       "    </tr>\n",
       "    <tr>\n",
       "      <th>776</th>\n",
       "      <td>777; Taxi; 10.49; 17.171447; 37.978360; 23.735...</td>\n",
       "    </tr>\n",
       "  </tbody>\n",
       "</table>\n",
       "<p>777 rows × 1 columns</p>\n",
       "</div>"
      ],
      "text/plain": [
       "    track_id; type; traveled_d; avg_speed; lat; lon; speed; lon_acc; lat_acc; time\n",
       "0    1; Car; 21.47; 25.760048; 37.977161; 23.737857...                            \n",
       "1    2; Car; 31.16; 28.042868; 37.977271; 23.737826...                            \n",
       "2    3; Car; 58.95; 21.656154; 37.977511; 23.737657...                            \n",
       "3    4; Car; 135.78; 18.103987; 37.978145; 23.73712...                            \n",
       "4    5; Car; 133.94; 20.090543; 37.978132; 23.73709...                            \n",
       "..                                                 ...                            \n",
       "772  773; Car; 44.31; 16.616416; 37.978371; 23.7354...                            \n",
       "773  774; Car; 36.76; 17.413278; 37.978367; 23.7354...                            \n",
       "774  775; Car; 27.26; 19.630527; 37.978369; 23.7354...                            \n",
       "775  776; Motorcycle; 9.28; 12.846367; 37.978576; 2...                            \n",
       "776  777; Taxi; 10.49; 17.171447; 37.978360; 23.735...                            \n",
       "\n",
       "[777 rows x 1 columns]"
      ]
     },
     "execution_count": 5,
     "metadata": {},
     "output_type": "execute_result"
    }
   ],
   "source": [
    "df"
   ]
  },
  {
   "cell_type": "code",
   "execution_count": 8,
   "id": "0334d57b",
   "metadata": {},
   "outputs": [
    {
     "data": {
      "text/plain": [
       "track_id; type; traveled_d; avg_speed; lat; lon; speed; lon_acc; lat_acc; time    object\n",
       "dtype: object"
      ]
     },
     "execution_count": 8,
     "metadata": {},
     "output_type": "execute_result"
    }
   ],
   "source": [
    "df.dtypes"
   ]
  },
  {
   "cell_type": "code",
   "execution_count": null,
   "id": "d51462f7",
   "metadata": {},
   "outputs": [],
   "source": []
  }
 ],
 "metadata": {
  "kernelspec": {
   "display_name": "Python 3 (ipykernel)",
   "language": "python",
   "name": "python3"
  },
  "language_info": {
   "codemirror_mode": {
    "name": "ipython",
    "version": 3
   },
   "file_extension": ".py",
   "mimetype": "text/x-python",
   "name": "python",
   "nbconvert_exporter": "python",
   "pygments_lexer": "ipython3",
   "version": "3.8.13"
  }
 },
 "nbformat": 4,
 "nbformat_minor": 5
}

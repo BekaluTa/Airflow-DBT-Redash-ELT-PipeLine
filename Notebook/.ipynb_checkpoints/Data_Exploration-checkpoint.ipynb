{
 "cells": [
  {
   "cell_type": "code",
   "execution_count": 1,
   "id": "3c33c232",
   "metadata": {},
   "outputs": [],
   "source": [
    "import pandas as pd"
   ]
  },
  {
   "cell_type": "code",
   "execution_count": 2,
   "id": "67f8a867",
   "metadata": {},
   "outputs": [
    {
     "name": "stderr",
     "output_type": "stream",
     "text": [
      "C:\\Users\\Bekalu\\AppData\\Local\\Temp\\ipykernel_15044\\3861275819.py:1: ParserWarning: Falling back to the 'python' engine because the 'c' engine does not support regex separators (separators > 1 char and different from '\\s+' are interpreted as regex); you can avoid this warning by specifying engine='python'.\n",
      "  df=pd.read_csv(\"../Data/week5.csv\",sep=\"[,;:]\",index_col=False)\n",
      "C:\\Users\\Bekalu\\AppData\\Local\\Temp\\ipykernel_15044\\3861275819.py:1: ParserWarning: Length of header or names does not match length of data. This leads to a loss of data with index_col=False.\n",
      "  df=pd.read_csv(\"../Data/week5.csv\",sep=\"[,;:]\",index_col=False)\n"
     ]
    }
   ],
   "source": [
    "df=pd.read_csv(\"../Data/week5.csv\",sep=\"[,;:]\",index_col=False)"
   ]
  },
  {
   "cell_type": "code",
   "execution_count": 3,
   "id": "c98547b2",
   "metadata": {},
   "outputs": [
    {
     "data": {
      "text/html": [
       "<div>\n",
       "<style scoped>\n",
       "    .dataframe tbody tr th:only-of-type {\n",
       "        vertical-align: middle;\n",
       "    }\n",
       "\n",
       "    .dataframe tbody tr th {\n",
       "        vertical-align: top;\n",
       "    }\n",
       "\n",
       "    .dataframe thead th {\n",
       "        text-align: right;\n",
       "    }\n",
       "</style>\n",
       "<table border=\"1\" class=\"dataframe\">\n",
       "  <thead>\n",
       "    <tr style=\"text-align: right;\">\n",
       "      <th></th>\n",
       "      <th>track_id</th>\n",
       "      <th>type</th>\n",
       "      <th>traveled_d</th>\n",
       "      <th>avg_speed</th>\n",
       "      <th>lat</th>\n",
       "      <th>lon</th>\n",
       "      <th>speed</th>\n",
       "      <th>lon_acc</th>\n",
       "      <th>lat_acc</th>\n",
       "      <th>time</th>\n",
       "    </tr>\n",
       "  </thead>\n",
       "  <tbody>\n",
       "    <tr>\n",
       "      <th>0</th>\n",
       "      <td>1</td>\n",
       "      <td>Car</td>\n",
       "      <td>21.47</td>\n",
       "      <td>25.760048</td>\n",
       "      <td>37.977161</td>\n",
       "      <td>23.737857</td>\n",
       "      <td>27.3731</td>\n",
       "      <td>0.0155</td>\n",
       "      <td>0.2572</td>\n",
       "      <td>0.0</td>\n",
       "    </tr>\n",
       "    <tr>\n",
       "      <th>1</th>\n",
       "      <td>2</td>\n",
       "      <td>Car</td>\n",
       "      <td>31.16</td>\n",
       "      <td>28.042868</td>\n",
       "      <td>37.977271</td>\n",
       "      <td>23.737826</td>\n",
       "      <td>30.3702</td>\n",
       "      <td>0.0293</td>\n",
       "      <td>0.3996</td>\n",
       "      <td>0.0</td>\n",
       "    </tr>\n",
       "    <tr>\n",
       "      <th>2</th>\n",
       "      <td>3</td>\n",
       "      <td>Car</td>\n",
       "      <td>58.95</td>\n",
       "      <td>21.656154</td>\n",
       "      <td>37.977511</td>\n",
       "      <td>23.737657</td>\n",
       "      <td>21.8391</td>\n",
       "      <td>0.0033</td>\n",
       "      <td>-0.0418</td>\n",
       "      <td>0.0</td>\n",
       "    </tr>\n",
       "    <tr>\n",
       "      <th>3</th>\n",
       "      <td>4</td>\n",
       "      <td>Car</td>\n",
       "      <td>135.78</td>\n",
       "      <td>18.103987</td>\n",
       "      <td>37.978145</td>\n",
       "      <td>23.737125</td>\n",
       "      <td>0.0000</td>\n",
       "      <td>0.0000</td>\n",
       "      <td>0.0000</td>\n",
       "      <td>0.0</td>\n",
       "    </tr>\n",
       "    <tr>\n",
       "      <th>4</th>\n",
       "      <td>5</td>\n",
       "      <td>Car</td>\n",
       "      <td>133.94</td>\n",
       "      <td>20.090543</td>\n",
       "      <td>37.978132</td>\n",
       "      <td>23.737098</td>\n",
       "      <td>0.0000</td>\n",
       "      <td>0.0000</td>\n",
       "      <td>0.0000</td>\n",
       "      <td>0.0</td>\n",
       "    </tr>\n",
       "  </tbody>\n",
       "</table>\n",
       "</div>"
      ],
      "text/plain": [
       "   track_id  type   traveled_d   avg_speed        lat        lon    speed  \\\n",
       "0         1   Car        21.47   25.760048  37.977161  23.737857  27.3731   \n",
       "1         2   Car        31.16   28.042868  37.977271  23.737826  30.3702   \n",
       "2         3   Car        58.95   21.656154  37.977511  23.737657  21.8391   \n",
       "3         4   Car       135.78   18.103987  37.978145  23.737125   0.0000   \n",
       "4         5   Car       133.94   20.090543  37.978132  23.737098   0.0000   \n",
       "\n",
       "    lon_acc   lat_acc   time  \n",
       "0    0.0155    0.2572    0.0  \n",
       "1    0.0293    0.3996    0.0  \n",
       "2    0.0033   -0.0418    0.0  \n",
       "3    0.0000    0.0000    0.0  \n",
       "4    0.0000    0.0000    0.0  "
      ]
     },
     "execution_count": 3,
     "metadata": {},
     "output_type": "execute_result"
    }
   ],
   "source": [
    "df.head()"
   ]
  },
  {
   "cell_type": "code",
   "execution_count": 4,
   "id": "0334d57b",
   "metadata": {},
   "outputs": [
    {
     "data": {
      "text/plain": [
       "10"
      ]
     },
     "execution_count": 4,
     "metadata": {},
     "output_type": "execute_result"
    }
   ],
   "source": [
    "len(df.columns)"
   ]
  },
  {
   "cell_type": "code",
   "execution_count": 5,
   "id": "d51462f7",
   "metadata": {},
   "outputs": [
    {
     "data": {
      "text/plain": [
       "(777, 10)"
      ]
     },
     "execution_count": 5,
     "metadata": {},
     "output_type": "execute_result"
    }
   ],
   "source": [
    "df.shape"
   ]
  },
  {
   "cell_type": "code",
   "execution_count": null,
   "id": "69576282",
   "metadata": {},
   "outputs": [],
   "source": []
  }
 ],
 "metadata": {
  "kernelspec": {
   "display_name": "Python 3 (ipykernel)",
   "language": "python",
   "name": "python3"
  },
  "language_info": {
   "codemirror_mode": {
    "name": "ipython",
    "version": 3
   },
   "file_extension": ".py",
   "mimetype": "text/x-python",
   "name": "python",
   "nbconvert_exporter": "python",
   "pygments_lexer": "ipython3",
   "version": "3.8.13"
  }
 },
 "nbformat": 4,
 "nbformat_minor": 5
}
